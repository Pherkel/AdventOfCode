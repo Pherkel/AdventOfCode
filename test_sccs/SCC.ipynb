{
 "cells": [
  {
   "cell_type": "markdown",
   "metadata": {},
   "source": [
    "Read the csv data into an array / the adjencency matrix\n"
   ]
  },
  {
   "cell_type": "code",
   "execution_count": 31,
   "metadata": {},
   "outputs": [],
   "source": [
    "import csv\n",
    "import numpy as np\n",
    "import time \n",
    "\n",
    "start = time.time()\n",
    "\n",
    "with open(\"big_graph.csv\") as matrix:\n",
    "    my_list = list(csv.reader(matrix))\n",
    "    arr = np.asarray(my_list, int)\n",
    "\n",
    "    num_nodes = len(arr)\n"
   ]
  },
  {
   "cell_type": "markdown",
   "metadata": {},
   "source": [
    "Determine the sources of the G^SCC by running DFS on the graph and ordering the vertices by finishing time\n"
   ]
  },
  {
   "cell_type": "code",
   "execution_count": 32,
   "metadata": {},
   "outputs": [],
   "source": [
    "visited = np.full(num_nodes, False)\n",
    "\n",
    "# list of vetrices in ascending finishing time\n",
    "finish_time = []\n",
    "\n",
    "# traverse through the graph with dfs and determine finishing time for each vertex\n",
    "def dfs_finish_time(u):\n",
    "    visited[u] = True\n",
    "\n",
    "    for i in range(num_nodes):\n",
    "        if not visited[i] and arr[u][i] == 1:\n",
    "            dfs_finish_time(i)\n",
    "\n",
    "    # once all children have been visited mark this vertex as finished\n",
    "    finish_time.append(u)\n",
    "\n",
    "for vertex in range(num_nodes):\n",
    "    if not visited[vertex]:\n",
    "        dfs_finish_time(vertex)\n"
   ]
  },
  {
   "cell_type": "markdown",
   "metadata": {},
   "source": [
    "Transpose the graph and determine the components by running DFS on this transposed graph.\n",
    "All previously found sources are now sinks.\n",
    "Starting vertex in each iteration is determined by descending finishing time, thus we always start in a sink component."
   ]
  },
  {
   "cell_type": "code",
   "execution_count": 33,
   "metadata": {},
   "outputs": [
    {
     "name": "stdout",
     "output_type": "stream",
     "text": [
      "0.2655680179595947ms\n",
      "Number of Strongly Connected Components: 10\n",
      " ----------------COMPONENT----------------\n",
      "993\n",
      " ----------------COMPONENT---------------- \n",
      " 995\n",
      " ----------------COMPONENT---------------- \n",
      " 999\n",
      " ----------------COMPONENT---------------- \n",
      " 998\n",
      " ----------------COMPONENT---------------- \n",
      " 994\n",
      " ----------------COMPONENT---------------- \n",
      " 997\n",
      " ----------------COMPONENT---------------- \n",
      " 996\n",
      " ----------------COMPONENT---------------- \n",
      " 0\t1\t2\t3\t4\t5\t6\t7\t8\t9\t10\t11\t12\t13\t14\t15\t16\t17\t18\t19\t20\t21\t22\t23\t24\t25\t26\t27\t28\t29\t30\t31\t32\t33\t34\t35\t36\t37\t38\t39\t40\t41\t42\t43\t44\t45\t46\t47\t48\t49\t50\t51\t52\t53\t54\t55\t56\t57\t58\t59\t60\t61\t62\t63\t64\t65\t66\t67\t68\t69\t70\t71\t72\t73\t74\t75\t76\t77\t78\t79\t80\t81\t82\t83\t84\t85\t86\t87\t88\t89\t90\t91\t92\t93\t94\t95\t96\t97\t98\t99\n",
      " ----------------COMPONENT---------------- \n",
      " 105\t100\t101\t102\t103\t104\t106\t107\t108\t109\t110\t111\t112\t113\t114\t115\t116\t117\t118\t119\t120\t121\t122\t123\t124\t125\t126\t127\t128\t129\t130\t131\t132\t133\t134\t135\t136\t137\t138\t139\t140\t141\t142\t143\t144\t145\t146\t147\t148\t149\t150\t151\t152\t153\t154\t155\t156\t157\t158\t159\t160\t161\t162\t163\t164\t165\t166\t167\t168\t169\t170\t171\t172\t173\t174\t175\t176\t177\t178\t179\t180\t181\t182\t183\t184\t185\t186\t187\t188\t189\t190\t191\t192\t193\t194\t195\t196\t197\t198\t199\n",
      " ----------------COMPONENT---------------- \n",
      " 502\t501\t500\t499\t498\t497\t496\t495\t494\t493\t492\t491\t490\t489\t488\t487\t486\t485\t484\t483\t482\t481\t480\t479\t478\t477\t476\t475\t474\t473\t472\t471\t470\t469\t468\t467\t466\t465\t464\t463\t462\t461\t460\t459\t458\t457\t456\t455\t454\t453\t452\t451\t450\t449\t448\t447\t446\t445\t444\t443\t442\t441\t440\t439\t438\t437\t436\t435\t434\t433\t432\t431\t430\t429\t428\t427\t426\t425\t424\t423\t422\t421\t420\t419\t418\t417\t416\t415\t414\t413\t412\t411\t410\t409\t408\t407\t406\t405\t404\t403\t402\t401\t400\t399\t398\t397\t396\t395\t394\t393\t392\t391\t390\t389\t388\t387\t386\t385\t384\t383\t382\t381\t380\t379\t378\t377\t376\t375\t374\t373\t372\t371\t370\t369\t368\t367\t366\t365\t364\t363\t362\t361\t360\t359\t358\t357\t356\t355\t354\t353\t352\t351\t350\t349\t348\t347\t346\t345\t344\t343\t342\t341\t340\t339\t338\t337\t336\t335\t334\t333\t332\t331\t330\t329\t328\t327\t326\t325\t324\t323\t322\t321\t320\t319\t318\t317\t316\t315\t314\t313\t312\t311\t310\t309\t308\t307\t306\t305\t304\t303\t302\t301\t300\t299\t298\t297\t296\t295\t294\t293\t292\t291\t290\t289\t288\t287\t286\t285\t284\t283\t282\t281\t280\t279\t278\t277\t276\t275\t274\t273\t272\t271\t270\t269\t268\t267\t266\t265\t264\t263\t262\t261\t260\t259\t258\t257\t256\t255\t254\t253\t252\t251\t250\t249\t248\t247\t246\t245\t244\t243\t242\t241\t240\t239\t238\t237\t236\t235\t234\t233\t232\t231\t230\t229\t228\t227\t226\t225\t224\t223\t222\t221\t220\t219\t218\t217\t216\t215\t214\t213\t212\t211\t210\t209\t208\t207\t206\t205\t204\t203\t202\t201\t200\t992\t991\t990\t989\t988\t987\t986\t985\t984\t983\t982\t981\t980\t979\t978\t977\t976\t975\t974\t973\t972\t971\t970\t969\t968\t967\t966\t965\t964\t963\t962\t961\t960\t959\t958\t957\t956\t955\t954\t953\t952\t951\t950\t949\t948\t947\t946\t945\t944\t943\t942\t941\t940\t939\t938\t937\t936\t935\t934\t933\t932\t931\t930\t929\t928\t927\t926\t925\t924\t923\t922\t921\t920\t919\t918\t917\t916\t915\t914\t913\t912\t911\t910\t909\t908\t907\t906\t905\t904\t903\t902\t901\t900\t899\t898\t897\t896\t895\t894\t893\t892\t891\t890\t889\t888\t887\t886\t885\t884\t883\t882\t881\t880\t879\t878\t877\t876\t875\t874\t873\t872\t871\t870\t869\t868\t867\t866\t865\t864\t863\t862\t861\t860\t859\t858\t857\t856\t855\t854\t853\t852\t851\t850\t849\t848\t847\t846\t845\t844\t843\t842\t841\t840\t839\t838\t837\t836\t835\t834\t833\t832\t831\t830\t829\t828\t827\t826\t825\t824\t823\t822\t821\t820\t819\t818\t817\t816\t815\t814\t813\t812\t811\t810\t809\t808\t807\t806\t805\t804\t803\t802\t801\t800\t799\t798\t797\t796\t795\t794\t793\t792\t791\t790\t789\t788\t787\t786\t785\t784\t783\t782\t781\t780\t779\t778\t777\t776\t775\t774\t773\t772\t771\t770\t769\t768\t767\t766\t765\t764\t763\t762\t761\t760\t759\t758\t757\t756\t755\t754\t753\t752\t751\t750\t749\t748\t747\t746\t745\t744\t743\t742\t741\t740\t739\t738\t737\t736\t735\t734\t733\t732\t731\t730\t729\t728\t727\t726\t725\t724\t723\t722\t721\t720\t719\t718\t717\t716\t715\t714\t713\t712\t711\t710\t709\t708\t707\t706\t705\t704\t703\t702\t701\t700\t699\t698\t697\t696\t695\t694\t693\t692\t691\t690\t689\t688\t687\t686\t685\t684\t683\t682\t681\t680\t679\t678\t677\t676\t675\t674\t673\t672\t671\t670\t669\t668\t667\t666\t665\t664\t663\t662\t661\t660\t659\t658\t657\t656\t655\t654\t653\t652\t651\t650\t649\t648\t647\t646\t645\t644\t643\t642\t641\t640\t639\t638\t637\t636\t635\t634\t633\t632\t631\t630\t629\t628\t627\t626\t625\t624\t623\t622\t621\t620\t619\t618\t617\t616\t615\t614\t613\t612\t611\t610\t609\t608\t607\t606\t605\t604\t603\t602\t601\t600\t599\t598\t597\t596\t595\t594\t593\t592\t591\t590\t589\t588\t587\t586\t585\t584\t583\t582\t581\t580\t579\t578\t577\t576\t575\t574\t573\t572\t571\t570\t569\t568\t567\t566\t565\t564\t563\t562\t561\t560\t559\t558\t557\t556\t555\t554\t553\t552\t551\t550\t549\t548\t547\t546\t545\t544\t543\t542\t541\t540\t539\t538\t537\t536\t535\t534\t533\t532\t531\t530\t529\t528\t527\t526\t525\t524\t523\t522\t521\t520\t519\t518\t517\t516\t515\t514\t513\t512\t511\t510\t509\t508\t507\t506\t505\t504\t503\n"
     ]
    }
   ],
   "source": [
    "# transposed graph -> all edges are now flipped\n",
    "t_arr = arr.transpose()\n",
    "\n",
    "# reset visited list\n",
    "visited = np.full(num_nodes, False)\n",
    "\n",
    "# list of strongly connected components\n",
    "components = []\n",
    "num_components = 0\n",
    "\n",
    "def dfs_tree(u):\n",
    "    visited[u] = True\n",
    "    # append this vertex to the currently selected component\n",
    "    components[num_components].append(u)\n",
    "    \n",
    "    for i in range(num_nodes):\n",
    "        if not visited[i] and t_arr[u][i] == 1:\n",
    "            dfs_tree(i)\n",
    "\n",
    "# using finish_time as a stack\n",
    "while(finish_time):\n",
    "    curr_vertex = finish_time.pop()\n",
    "    \n",
    "    if not visited[curr_vertex]:\n",
    "        # new SCC found!\n",
    "        components.append([])\n",
    "        dfs_tree(curr_vertex)\n",
    "        num_components+=1\n",
    "\n",
    "end = time.time()\n",
    "\n",
    "print(str(end-start) + \"ms\")\n",
    "        \n",
    "print(\"Number of Strongly Connected Components: \" + str(num_components))\n",
    "print(\" ----------------COMPONENT----------------\")\n",
    "print('\\n ----------------COMPONENT---------------- \\n '.join(['\\t'.join([str(cell) for cell in row]) for row in components]))"
   ]
  }
 ],
 "metadata": {
  "kernelspec": {
   "display_name": "Python 3.10.8 ('venv': venv)",
   "language": "python",
   "name": "python3"
  },
  "language_info": {
   "codemirror_mode": {
    "name": "ipython",
    "version": 3
   },
   "file_extension": ".py",
   "mimetype": "text/x-python",
   "name": "python",
   "nbconvert_exporter": "python",
   "pygments_lexer": "ipython3",
   "version": "3.10.8"
  },
  "orig_nbformat": 4,
  "vscode": {
   "interpreter": {
    "hash": "a8906ade8ee3f7173e278abd50f5aac5e98ab8874260be9680d353a6fb4101e3"
   }
  }
 },
 "nbformat": 4,
 "nbformat_minor": 2
}
