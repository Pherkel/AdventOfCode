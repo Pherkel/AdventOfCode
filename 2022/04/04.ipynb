{
 "cells": [
  {
   "cell_type": "code",
   "execution_count": 30,
   "metadata": {},
   "outputs": [
    {
     "name": "stdout",
     "output_type": "stream",
     "text": [
      "550\n"
     ]
    }
   ],
   "source": [
    "with open(\"input\") as input:\n",
    "    assignments = [x.strip().split(\",\") for x in input.readlines()]\n",
    "\n",
    "count = 0\n",
    "\n",
    "def within(ass1, ass2):\n",
    "    return (int(ass2.split(\"-\")[0]) <= int(ass1.split(\"-\")[0]) and int(ass2.split(\"-\")[1]) >= int(ass1.split(\"-\")[1])) or (int(ass1.split(\"-\")[0]) <= int(ass2.split(\"-\")[0]) and int(ass1.split(\"-\")[1]) >= int(ass2.split(\"-\")[1]))\n",
    "\n",
    "for ass in assignments:\n",
    "    # first range is outer range\n",
    "    if within(ass[0], ass[1]):\n",
    "        count += 1\n",
    "print(count)"
   ]
  },
  {
   "cell_type": "code",
   "execution_count": 42,
   "metadata": {},
   "outputs": [
    {
     "name": "stdout",
     "output_type": "stream",
     "text": [
      "931\n"
     ]
    }
   ],
   "source": [
    "with open(\"input\") as input:\n",
    "    assignments = [x.strip().split(\",\") for x in input.readlines()]\n",
    "\n",
    "count = 0\n",
    "\n",
    "def overlap(ass1, ass2):\n",
    "    l1 = int(ass1.split(\"-\")[0])\n",
    "    l2 = int(ass2.split(\"-\")[0])\n",
    "    h1 = int(ass1.split(\"-\")[1])\n",
    "    h2 = int(ass2.split(\"-\")[1])\n",
    "    return l1 <= h2 and h1 >= l2\n",
    "\n",
    "for ass in assignments:\n",
    "    if overlap(ass[0], ass[1]):\n",
    "        count += 1\n",
    "print(count)"
   ]
  }
 ],
 "metadata": {
  "kernelspec": {
   "display_name": "Python 3.11.0 ('aocvenv': venv)",
   "language": "python",
   "name": "python3"
  },
  "language_info": {
   "codemirror_mode": {
    "name": "ipython",
    "version": 3
   },
   "file_extension": ".py",
   "mimetype": "text/x-python",
   "name": "python",
   "nbconvert_exporter": "python",
   "pygments_lexer": "ipython3",
   "version": "3.11.0"
  },
  "orig_nbformat": 4,
  "vscode": {
   "interpreter": {
    "hash": "2e4f18c47bd4ebc64e693c27c922789917c73fd35c5399b97964194aa3edcaa0"
   }
  }
 },
 "nbformat": 4,
 "nbformat_minor": 2
}
