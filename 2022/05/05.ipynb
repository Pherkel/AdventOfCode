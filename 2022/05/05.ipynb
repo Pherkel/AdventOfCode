{
 "cells": [
  {
   "cell_type": "code",
   "execution_count": 15,
   "metadata": {},
   "outputs": [
    {
     "name": "stdout",
     "output_type": "stream",
     "text": [
      "PHJZSDDNP\n"
     ]
    }
   ],
   "source": [
    "import re\n",
    "\n",
    "crates = [\n",
    "    ['G', 'B', 'D', 'C', 'P', 'R'], \n",
    "    ['G', 'V', 'H'], \n",
    "    ['M', 'P', \"J\", \"D\", \"Q\", \"S\", \"N\"], \n",
    "    [\"M\", \"N\", \"C\", \"D\", \"D\", \"G\", \"L\", \"S\", \"P\"],\n",
    "    [\"S\", \"L\", \"F\", \"P\", \"C\", \"N\", \"B\", \"J\"],\n",
    "    [\"S\", \"T\", \"G\", \"V\", \"Z\", \"D\", \"B\", \"Q\"],\n",
    "    [\"Q\", \"T\", \"F\", \"H\", \"M\", \"Z\", \"B\"],\n",
    "    [\"F\", \"B\", \"D\", \"M\", \"C\"],\n",
    "    [\"G\", \"Q\", \"C\", \"F\"]\n",
    "    ]\n",
    "\n",
    "with open(\"input\") as input:\n",
    "    instructions = [re.findall(r'\\d+', x) for x in [x.strip() for x in input.readlines()]]\n",
    "\n",
    "instructions = instructions[::-1]\n",
    "\n",
    "for inst in instructions:\n",
    "    num = int(inst[0])\n",
    "    src = int(inst[1]) - 1\n",
    "    to = int(inst[2]) - 1\n",
    "    crates[to] += crates[src][-num:][::-1]\n",
    "    crates[src] = crates[src][:-num]\n",
    "\n",
    "print(\"\".join([x[-1] for x in crates]))\n",
    "\n"
   ]
  },
  {
   "cell_type": "code",
   "execution_count": 14,
   "metadata": {},
   "outputs": [
    {
     "name": "stdout",
     "output_type": "stream",
     "text": [
      "GTDQSFBGH\n"
     ]
    }
   ],
   "source": [
    "import re\n",
    "\n",
    "crates = [\n",
    "    ['G', 'B', 'D', 'C', 'P', 'R'], \n",
    "    ['G', 'V', 'H'], \n",
    "    ['M', 'P', \"J\", \"D\", \"Q\", \"S\", \"N\"], \n",
    "    [\"M\", \"N\", \"C\", \"D\", \"D\", \"G\", \"L\", \"S\", \"P\"],\n",
    "    [\"S\", \"L\", \"F\", \"P\", \"C\", \"N\", \"B\", \"J\"],\n",
    "    [\"S\", \"T\", \"G\", \"V\", \"Z\", \"D\", \"B\", \"Q\"],\n",
    "    [\"Q\", \"T\", \"F\", \"H\", \"M\", \"Z\", \"B\"],\n",
    "    [\"F\", \"B\", \"D\", \"M\", \"C\"],\n",
    "    [\"G\", \"Q\", \"C\", \"F\"]\n",
    "    ]\n",
    "\n",
    "with open(\"input\") as input:\n",
    "    instructions = [re.findall(r'\\d+', x) for x in [x.strip() for x in input.readlines()]]\n",
    "\n",
    "instructions = instructions[::-1]\n",
    "\n",
    "for inst in instructions:\n",
    "    num = int(inst[0])\n",
    "    src = int(inst[1]) - 1\n",
    "    to = int(inst[2]) - 1\n",
    "    crates[to] += crates[src][-num:]\n",
    "    crates[src] = crates[src][:-num]\n",
    "\n",
    "print(\"\".join([x[-1] for x in crates]))\n",
    "\n"
   ]
  }
 ],
 "metadata": {
  "kernelspec": {
   "display_name": "Python 3.11.0 ('aocvenv': venv)",
   "language": "python",
   "name": "python3"
  },
  "language_info": {
   "codemirror_mode": {
    "name": "ipython",
    "version": 3
   },
   "file_extension": ".py",
   "mimetype": "text/x-python",
   "name": "python",
   "nbconvert_exporter": "python",
   "pygments_lexer": "ipython3",
   "version": "3.11.0"
  },
  "orig_nbformat": 4,
  "vscode": {
   "interpreter": {
    "hash": "2e4f18c47bd4ebc64e693c27c922789917c73fd35c5399b97964194aa3edcaa0"
   }
  }
 },
 "nbformat": 4,
 "nbformat_minor": 2
}
