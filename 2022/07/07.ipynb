{
 "cells": [
  {
   "cell_type": "code",
   "execution_count": 32,
   "metadata": {},
   "outputs": [
    {
     "name": "stdout",
     "output_type": "stream",
     "text": [
      "cmnwnpwb, 150961, /, 0, None\n",
      "hhcp.jzd, 28669, /, 0, None\n",
      "jssbn, 0, None\n",
      "lfrctthp, 0, None\n",
      "lfrctthp.tlv, 133395, /, 0, None\n",
      "ltwmz, 0, None\n",
      "nmzntmcf, 0, None\n",
      "vhj, 0, None\n",
      "wbs.vmh, 256180, /, 0, None\n",
      "zsntdzf, 257693, /, 0, None\n",
      "cmnwnpwb, 150961, /, 0, None\n",
      "hhcp.jzd, 28669, /, 0, None\n",
      "jssbn, 0, None\n",
      "lfrctthp, 0, None\n",
      "lfrctthp.tlv, 133395, /, 0, None\n",
      "ltwmz, 0, None\n",
      "nmzntmcf, 0, None\n",
      "vhj, 0, None\n",
      "wbs.vmh, 256180, /, 0, None\n",
      "zsntdzf, 257693, /, 0, None\n",
      "dvlb, 89372, jssbn, 0, None\n",
      "lfrctthp, 0, None\n",
      "pjzpjjq, 0, None\n",
      "rbtbtt, 0, None\n",
      "sppmmj, 203148, jssbn, 0, None\n",
      "sppmmj.bmm, 130200, jssbn, 0, None\n",
      "tlhttrgs, 0, None\n",
      "vsbvlr, 248929, jssbn, 0, None\n",
      "cmnwnpwb, 150961, /, 0, None\n",
      "hhcp.jzd, 28669, /, 0, None\n",
      "jssbn, 0, None\n",
      "lfrctthp, 0, None\n",
      "lfrctthp.tlv, 133395, /, 0, None\n",
      "ltwmz, 0, None\n",
      "nmzntmcf, 0, None\n",
      "vhj, 0, None\n",
      "wbs.vmh, 256180, /, 0, None\n",
      "zsntdzf, 257693, /, 0, None\n",
      "dvlb, 89372, jssbn, 0, None\n",
      "lfrctthp, 0, None\n",
      "pjzpjjq, 0, None\n",
      "rbtbtt, 0, None\n",
      "sppmmj, 203148, jssbn, 0, None\n",
      "sppmmj.bmm, 130200, jssbn, 0, None\n",
      "tlhttrgs, 0, None\n",
      "vsbvlr, 248929, jssbn, 0, None\n",
      "lfrctthp, 0, None\n",
      "srf, 0, None\n",
      "vlfc, 165285, lfrctthp, 0, None\n",
      "wbs.vmh, 202701, lfrctthp, 0, None\n"
     ]
    },
    {
     "ename": "AttributeError",
     "evalue": "'NoneType' object has no attribute 'children'",
     "output_type": "error",
     "traceback": [
      "\u001b[0;31m---------------------------------------------------------------------------\u001b[0m",
      "\u001b[0;31mAttributeError\u001b[0m                            Traceback (most recent call last)",
      "Cell \u001b[0;32mIn[32], line 32\u001b[0m\n\u001b[1;32m     30\u001b[0m \u001b[39m# find the requested directory in the list of current children\u001b[39;00m\n\u001b[1;32m     31\u001b[0m temp_dir \u001b[39m=\u001b[39m Node(\u001b[39m\"\u001b[39m\u001b[39mtemp\u001b[39m\u001b[39m\"\u001b[39m)\n\u001b[0;32m---> 32\u001b[0m \u001b[39mfor\u001b[39;00m d \u001b[39min\u001b[39;00m curr_dir\u001b[39m.\u001b[39;49mchildren:\n\u001b[1;32m     33\u001b[0m     \u001b[39mprint\u001b[39m(d)\n\u001b[1;32m     34\u001b[0m     \u001b[39mif\u001b[39;00m d\u001b[39m.\u001b[39mname \u001b[39m==\u001b[39m splitter[\u001b[39m2\u001b[39m]:\n",
      "\u001b[0;31mAttributeError\u001b[0m: 'NoneType' object has no attribute 'children'"
     ]
    }
   ],
   "source": [
    "with open(\"input\") as input:\n",
    "    temp = [x.strip() for x in [x.strip() for x in input.readlines()]]\n",
    "\n",
    "\n",
    "class Node:\n",
    "    def __init__(self, name, size = 0, parent = None):\n",
    "        self.name = name\n",
    "        self.size = size\n",
    "        self.parent = parent\n",
    "        \n",
    "    def __repr__(self):\n",
    "        return f\"{self.name}, {self.size}, {self.parent}\"\n",
    "    \n",
    "    name = \"\"\n",
    "    parent = Node(\"\")\n",
    "    children = []\n",
    "    size = 0\n",
    "\n",
    "curr_dir = Node(\"/\")\n",
    "\n",
    "for ding in temp:\n",
    "    splitter = ding.split(\" \")\n",
    "    if (splitter[0] == \"$\"):\n",
    "        if (splitter[1] == \"cd\"):\n",
    "            if(splitter[2] == \"..\"):\n",
    "                curr_dir = curr_dir.parent\n",
    "                continue\n",
    "            \n",
    "            # find the requested directory in the list of current children\n",
    "            temp_dir = Node(\"temp\")\n",
    "            for d in curr_dir.children:\n",
    "                print(d)\n",
    "                if d.name == splitter[2]:\n",
    "                    temp_dir = d\n",
    "            curr_dir = temp_dir\n",
    "            continue\n",
    "        continue\n",
    "    if(splitter[0] == \"dir\"):\n",
    "        curr_dir.children.append(Node(splitter[1]))\n",
    "        continue\n",
    "    curr_dir.children.append(Node(splitter[1], int(splitter[0]), curr_dir))\n",
    "\n",
    "            \n",
    "    "
   ]
  },
  {
   "cell_type": "code",
   "execution_count": null,
   "metadata": {},
   "outputs": [],
   "source": []
  }
 ],
 "metadata": {
  "kernelspec": {
   "display_name": "Python 3.11.0 64-bit ('3.11.0')",
   "language": "python",
   "name": "python3"
  },
  "language_info": {
   "codemirror_mode": {
    "name": "ipython",
    "version": 3
   },
   "file_extension": ".py",
   "mimetype": "text/x-python",
   "name": "python",
   "nbconvert_exporter": "python",
   "pygments_lexer": "ipython3",
   "version": "3.11.0"
  },
  "orig_nbformat": 4,
  "vscode": {
   "interpreter": {
    "hash": "cfdfa2980c5b7927ad7086c1a74ebf90c8f59c9e9d0ddb274e4030b0f55b2389"
   }
  }
 },
 "nbformat": 4,
 "nbformat_minor": 2
}
