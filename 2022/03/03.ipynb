{
 "cells": [
  {
   "cell_type": "code",
   "execution_count": 29,
   "metadata": {},
   "outputs": [
    {
     "name": "stdout",
     "output_type": "stream",
     "text": [
      "157\n",
      "7701\n"
     ]
    }
   ],
   "source": [
    "with open(\"input\") as input:\n",
    "    temp = [x.strip() for x in input.readlines()]\n",
    "    rucksacks = [[x[:len(x)//2], x[len(x)//2:]] for x in temp]\n",
    "\n",
    "# if is lower: get prio by subtracting 96\n",
    "# if is lower: get prio by subtracting 38\n",
    "\n",
    "res = 0\n",
    "\n",
    "def pr(item):\n",
    "    return (ord(item) - 38) if item.isupper() else (ord(item) - 96) \n",
    "\n",
    "for rucksack in rucksacks:\n",
    "    for item in rucksack[0]:\n",
    "        if item in rucksack[1]:\n",
    "            res += pr(item)\n",
    "            break\n",
    "\n",
    "\n",
    "\n",
    "print(res)"
   ]
  },
  {
   "cell_type": "code",
   "execution_count": null,
   "metadata": {},
   "outputs": [],
   "source": []
  }
 ],
 "metadata": {
  "kernelspec": {
   "display_name": "Python 3.11.0 64-bit ('3.11.0')",
   "language": "python",
   "name": "python3"
  },
  "language_info": {
   "codemirror_mode": {
    "name": "ipython",
    "version": 3
   },
   "file_extension": ".py",
   "mimetype": "text/x-python",
   "name": "python",
   "nbconvert_exporter": "python",
   "pygments_lexer": "ipython3",
   "version": "3.11.0"
  },
  "orig_nbformat": 4,
  "vscode": {
   "interpreter": {
    "hash": "cfdfa2980c5b7927ad7086c1a74ebf90c8f59c9e9d0ddb274e4030b0f55b2389"
   }
  }
 },
 "nbformat": 4,
 "nbformat_minor": 2
}
