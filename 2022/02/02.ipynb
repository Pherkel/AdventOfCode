{
 "cells": [
  {
   "cell_type": "code",
   "execution_count": 22,
   "metadata": {},
   "outputs": [
    {
     "name": "stdout",
     "output_type": "stream",
     "text": [
      "14297\n"
     ]
    }
   ],
   "source": [
    "moves = []\n",
    "\n",
    "with open(\"input.txt\", \"r\") as input:\n",
    "    for line in input:\n",
    "        moves.append([x.removesuffix(\"\\n\") for x in line.split(\" \")])\n",
    "\n",
    "score = 0\n",
    "for move in moves:\n",
    "    match move[0]:\n",
    "        case \"A\":\n",
    "            match move[1]:\n",
    "                case \"X\":\n",
    "                    score += 3 + 1\n",
    "                case \"Y\":\n",
    "                    score += 6 + 2\n",
    "                case \"Z\":\n",
    "                    score += 0 + 3\n",
    "        case \"B\":\n",
    "            match move[1]:\n",
    "                case \"X\":\n",
    "                    score += 0 + 1\n",
    "                case \"Y\":\n",
    "                    score += 3 + 2\n",
    "                case \"Z\":\n",
    "                    score += 6 + 3\n",
    "        case \"C\":\n",
    "            match move[1]:\n",
    "                case \"X\":\n",
    "                    score += 6 + 1\n",
    "                case \"Y\":\n",
    "                    score += 0 + 2\n",
    "                case \"Z\":\n",
    "                    score += 3 + 3\n",
    "                    \n",
    "print(score)\n",
    "        "
   ]
  },
  {
   "cell_type": "code",
   "execution_count": 23,
   "metadata": {},
   "outputs": [
    {
     "name": "stdout",
     "output_type": "stream",
     "text": [
      "10498\n"
     ]
    }
   ],
   "source": [
    "moves = []\n",
    "\n",
    "with open(\"input.txt\", \"r\") as input:\n",
    "    for line in input:\n",
    "        moves.append([x.removesuffix(\"\\n\") for x in line.split(\" \")])\n",
    "\n",
    "score = 0\n",
    "for move in moves:\n",
    "    match move[0]:\n",
    "        case \"A\": # rock\n",
    "            match move[1]:\n",
    "                case \"X\": # lose\n",
    "                    score += 0 + 3\n",
    "                case \"Y\": # draw\n",
    "                    score += 3 + 1\n",
    "                case \"Z\": # win\n",
    "                    score += 6 + 2\n",
    "        case \"B\":\n",
    "            match move[1]:\n",
    "                case \"X\":\n",
    "                    score += 0 + 1\n",
    "                case \"Y\":\n",
    "                    score += 3 + 2\n",
    "                case \"Z\":\n",
    "                    score += 6 + 3\n",
    "        case \"C\":\n",
    "            match move[1]:\n",
    "                case \"X\":\n",
    "                    score += 0 + 2\n",
    "                case \"Y\":\n",
    "                    score += 3 + 3\n",
    "                case \"Z\":\n",
    "                    score += 6 + 1\n",
    "                    \n",
    "print(score)\n",
    "        "
   ]
  },
  {
   "cell_type": "code",
   "execution_count": null,
   "metadata": {},
   "outputs": [],
   "source": []
  }
 ],
 "metadata": {
  "kernelspec": {
   "display_name": "Python 3.11.0 64-bit ('3.11.0')",
   "language": "python",
   "name": "python3"
  },
  "language_info": {
   "codemirror_mode": {
    "name": "ipython",
    "version": 3
   },
   "file_extension": ".py",
   "mimetype": "text/x-python",
   "name": "python",
   "nbconvert_exporter": "python",
   "pygments_lexer": "ipython3",
   "version": "3.11.0"
  },
  "orig_nbformat": 4,
  "vscode": {
   "interpreter": {
    "hash": "cfdfa2980c5b7927ad7086c1a74ebf90c8f59c9e9d0ddb274e4030b0f55b2389"
   }
  }
 },
 "nbformat": 4,
 "nbformat_minor": 2
}
