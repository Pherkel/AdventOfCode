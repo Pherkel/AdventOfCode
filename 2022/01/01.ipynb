{
 "cells": [
  {
   "cell_type": "code",
   "execution_count": 16,
   "metadata": {},
   "outputs": [
    {
     "name": "stdout",
     "output_type": "stream",
     "text": [
      "69883\n"
     ]
    }
   ],
   "source": [
    "with open(\"input1.txt\", \"r\") as input:\n",
    "    max_cal = 0\n",
    "    temp_cal = 0\n",
    "    for line in input:\n",
    "        if line == \"\\n\":\n",
    "            if (max_cal < temp_cal):\n",
    "                max_cal = temp_cal\n",
    "            temp_cal = 0\n",
    "        else:\n",
    "            temp_cal += int(line)\n",
    "        \n",
    "    print(max_cal)"
   ]
  },
  {
   "cell_type": "code",
   "execution_count": 21,
   "metadata": {},
   "outputs": [
    {
     "name": "stdout",
     "output_type": "stream",
     "text": [
      "207576\n"
     ]
    }
   ],
   "source": [
    "elves_list = []\n",
    "\n",
    "temp_cal = 0\n",
    "\n",
    "with open(\"input1.txt\", \"r\") as input:\n",
    "    for line in input:\n",
    "        if line == \"\\n\":\n",
    "            elves_list.append(temp_cal)\n",
    "            temp_cal = 0\n",
    "        else:\n",
    "            temp_cal += int(line)\n",
    "\n",
    "elves_list.sort()\n",
    "\n",
    "print(sum(elves_list[-3:]))"
   ]
  }
 ],
 "metadata": {
  "kernelspec": {
   "display_name": "Python 3.10.8 ('venv': venv)",
   "language": "python",
   "name": "python3"
  },
  "language_info": {
   "codemirror_mode": {
    "name": "ipython",
    "version": 3
   },
   "file_extension": ".py",
   "mimetype": "text/x-python",
   "name": "python",
   "nbconvert_exporter": "python",
   "pygments_lexer": "ipython3",
   "version": "3.10.8"
  },
  "orig_nbformat": 4,
  "vscode": {
   "interpreter": {
    "hash": "3725e33dc94413849e1faf9d6d0b1af8b20bfefb0af4b725bb0c63bd629f0381"
   }
  }
 },
 "nbformat": 4,
 "nbformat_minor": 2
}
