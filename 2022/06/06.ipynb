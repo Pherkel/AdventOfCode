{
 "cells": [
  {
   "cell_type": "code",
   "execution_count": 25,
   "metadata": {},
   "outputs": [
    {
     "name": "stdout",
     "output_type": "stream",
     "text": [
      "1262\n"
     ]
    }
   ],
   "source": [
    "with open(\"input\") as input:\n",
    "    text = input.readline()\n",
    "\n",
    "for i in range(len(text)):\n",
    "    if 4 <= len(set(text[i:i+4])):\n",
    "        print(i+4)\n",
    "        break;"
   ]
  },
  {
   "cell_type": "code",
   "execution_count": 28,
   "metadata": {},
   "outputs": [
    {
     "name": "stdout",
     "output_type": "stream",
     "text": [
      "3444\n"
     ]
    }
   ],
   "source": [
    "with open(\"input\") as input:\n",
    "    text = input.readline()\n",
    "    \n",
    "for i in range(len(text)):\n",
    "    if 14 <= len(set(text[i:i+14])):\n",
    "        print(i+14)\n",
    "        break;"
   ]
  }
 ],
 "metadata": {
  "kernelspec": {
   "display_name": "Python 3.11.0 ('aocvenv': venv)",
   "language": "python",
   "name": "python3"
  },
  "language_info": {
   "codemirror_mode": {
    "name": "ipython",
    "version": 3
   },
   "file_extension": ".py",
   "mimetype": "text/x-python",
   "name": "python",
   "nbconvert_exporter": "python",
   "pygments_lexer": "ipython3",
   "version": "3.11.0"
  },
  "orig_nbformat": 4,
  "vscode": {
   "interpreter": {
    "hash": "2e4f18c47bd4ebc64e693c27c922789917c73fd35c5399b97964194aa3edcaa0"
   }
  }
 },
 "nbformat": 4,
 "nbformat_minor": 2
}
